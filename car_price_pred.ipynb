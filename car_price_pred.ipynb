{
 "cells": [
  {
   "cell_type": "code",
   "execution_count": 1,
   "id": "6a5c3e5f-9c18-4fc4-8fec-3994ba02a8d4",
   "metadata": {},
   "outputs": [
    {
     "name": "stdout",
     "output_type": "stream",
     "text": [
      "Requirement already satisfied: missingno in c:\\users\\samsung\\anaconda3\\lib\\site-packages (0.5.1)\n",
      "Requirement already satisfied: scipy in c:\\users\\samsung\\anaconda3\\lib\\site-packages (from missingno) (1.9.1)\n",
      "Requirement already satisfied: numpy in c:\\users\\samsung\\anaconda3\\lib\\site-packages (from missingno) (1.21.5)\n",
      "Requirement already satisfied: seaborn in c:\\users\\samsung\\anaconda3\\lib\\site-packages (from missingno) (0.11.2)\n",
      "Requirement already satisfied: matplotlib in c:\\users\\samsung\\anaconda3\\lib\\site-packages (from missingno) (3.5.2)\n",
      "Requirement already satisfied: python-dateutil>=2.7 in c:\\users\\samsung\\anaconda3\\lib\\site-packages (from matplotlib->missingno) (2.8.2)\n",
      "Requirement already satisfied: fonttools>=4.22.0 in c:\\users\\samsung\\anaconda3\\lib\\site-packages (from matplotlib->missingno) (4.25.0)\n",
      "Requirement already satisfied: cycler>=0.10 in c:\\users\\samsung\\anaconda3\\lib\\site-packages (from matplotlib->missingno) (0.11.0)\n",
      "Requirement already satisfied: kiwisolver>=1.0.1 in c:\\users\\samsung\\anaconda3\\lib\\site-packages (from matplotlib->missingno) (1.4.2)\n",
      "Requirement already satisfied: pillow>=6.2.0 in c:\\users\\samsung\\anaconda3\\lib\\site-packages (from matplotlib->missingno) (9.2.0)\n",
      "Requirement already satisfied: packaging>=20.0 in c:\\users\\samsung\\anaconda3\\lib\\site-packages (from matplotlib->missingno) (21.3)\n",
      "Requirement already satisfied: pyparsing>=2.2.1 in c:\\users\\samsung\\anaconda3\\lib\\site-packages (from matplotlib->missingno) (3.0.9)\n",
      "Requirement already satisfied: pandas>=0.23 in c:\\users\\samsung\\anaconda3\\lib\\site-packages (from seaborn->missingno) (1.4.4)\n",
      "Requirement already satisfied: pytz>=2020.1 in c:\\users\\samsung\\anaconda3\\lib\\site-packages (from pandas>=0.23->seaborn->missingno) (2022.1)\n",
      "Requirement already satisfied: six>=1.5 in c:\\users\\samsung\\anaconda3\\lib\\site-packages (from python-dateutil>=2.7->matplotlib->missingno) (1.16.0)\n"
     ]
    }
   ],
   "source": [
    "import pandas as pd\n",
    "import numpy as np\n",
    "import matplotlib as mpl\n",
    "import matplotlib.pyplot as plt\n",
    "import seaborn as sns\n",
    "from scipy import stats\n",
    "import pylab\n",
    "from scipy.stats import shapiro\n",
    "from sklearn.metrics import mean_squared_error, r2_score\n",
    "from sklearn.neighbors import LocalOutlierFactor\n",
    "!pip install missingno\n",
    "import missingno as msno;\n",
    "from sklearn.preprocessing import LabelEncoder;"
   ]
  },
  {
   "cell_type": "code",
   "execution_count": 2,
   "id": "510cc8b0-e67f-422b-aea5-ef07fa55a2e6",
   "metadata": {},
   "outputs": [
    {
     "data": {
      "text/html": [
       "<div>\n",
       "<style scoped>\n",
       "    .dataframe tbody tr th:only-of-type {\n",
       "        vertical-align: middle;\n",
       "    }\n",
       "\n",
       "    .dataframe tbody tr th {\n",
       "        vertical-align: top;\n",
       "    }\n",
       "\n",
       "    .dataframe thead th {\n",
       "        text-align: right;\n",
       "    }\n",
       "</style>\n",
       "<table border=\"1\" class=\"dataframe\">\n",
       "  <thead>\n",
       "    <tr style=\"text-align: right;\">\n",
       "      <th></th>\n",
       "      <th>car_prices_in_rupee</th>\n",
       "      <th>fuel_type</th>\n",
       "      <th>transmission</th>\n",
       "      <th>manufacture</th>\n",
       "      <th>engine</th>\n",
       "      <th>Seats</th>\n",
       "    </tr>\n",
       "  </thead>\n",
       "  <tbody>\n",
       "    <tr>\n",
       "      <th>0</th>\n",
       "      <td>10.03 Lakh</td>\n",
       "      <td>Diesel</td>\n",
       "      <td>Manual</td>\n",
       "      <td>2017</td>\n",
       "      <td>1956 cc</td>\n",
       "      <td>5 Seats</td>\n",
       "    </tr>\n",
       "    <tr>\n",
       "      <th>1</th>\n",
       "      <td>12.83 Lakh</td>\n",
       "      <td>Petrol</td>\n",
       "      <td>Automatic</td>\n",
       "      <td>2021</td>\n",
       "      <td>1330 cc</td>\n",
       "      <td>5 Seats</td>\n",
       "    </tr>\n",
       "    <tr>\n",
       "      <th>2</th>\n",
       "      <td>16.40 Lakh</td>\n",
       "      <td>Petrol</td>\n",
       "      <td>Automatic</td>\n",
       "      <td>2016</td>\n",
       "      <td>2494 cc</td>\n",
       "      <td>5 Seats</td>\n",
       "    </tr>\n",
       "    <tr>\n",
       "      <th>3</th>\n",
       "      <td>7.77 Lakh</td>\n",
       "      <td>Petrol</td>\n",
       "      <td>Automatic</td>\n",
       "      <td>2018</td>\n",
       "      <td>1199 cc</td>\n",
       "      <td>5 Seats</td>\n",
       "    </tr>\n",
       "    <tr>\n",
       "      <th>4</th>\n",
       "      <td>5.15 Lakh</td>\n",
       "      <td>Petrol</td>\n",
       "      <td>Manual</td>\n",
       "      <td>2016</td>\n",
       "      <td>1199 cc</td>\n",
       "      <td>5 Seats</td>\n",
       "    </tr>\n",
       "  </tbody>\n",
       "</table>\n",
       "</div>"
      ],
      "text/plain": [
       "  car_prices_in_rupee fuel_type transmission  manufacture   engine    Seats\n",
       "0          10.03 Lakh    Diesel       Manual         2017  1956 cc  5 Seats\n",
       "1          12.83 Lakh    Petrol    Automatic         2021  1330 cc  5 Seats\n",
       "2          16.40 Lakh    Petrol    Automatic         2016  2494 cc  5 Seats\n",
       "3           7.77 Lakh    Petrol    Automatic         2018  1199 cc  5 Seats\n",
       "4           5.15 Lakh    Petrol       Manual         2016  1199 cc  5 Seats"
      ]
     },
     "execution_count": 2,
     "metadata": {},
     "output_type": "execute_result"
    }
   ],
   "source": [
    "data = pd.read_csv(\"car_price.csv\",encoding='ISO-8859-1',usecols = [2,4,5,7,8,9])\n",
    "data.head()"
   ]
  },
  {
   "cell_type": "code",
   "execution_count": 3,
   "id": "27f8220c-bf65-4de0-9e38-3e983a3c481b",
   "metadata": {},
   "outputs": [
    {
     "name": "stdout",
     "output_type": "stream",
     "text": [
      "<class 'pandas.core.frame.DataFrame'>\n",
      "RangeIndex: 5512 entries, 0 to 5511\n",
      "Data columns (total 6 columns):\n",
      " #   Column               Non-Null Count  Dtype \n",
      "---  ------               --------------  ----- \n",
      " 0   car_prices_in_rupee  5512 non-null   object\n",
      " 1   fuel_type            5512 non-null   object\n",
      " 2   transmission         5512 non-null   object\n",
      " 3   manufacture          5512 non-null   int64 \n",
      " 4   engine               5512 non-null   object\n",
      " 5   Seats                5512 non-null   object\n",
      "dtypes: int64(1), object(5)\n",
      "memory usage: 258.5+ KB\n"
     ]
    }
   ],
   "source": [
    "data.info()"
   ]
  },
  {
   "cell_type": "code",
   "execution_count": 4,
   "id": "f41d3d6c-38d9-4b54-9ac8-9c3009a1bea8",
   "metadata": {},
   "outputs": [],
   "source": [
    "split_str = data[\"car_prices_in_rupee\"].str.split().str.get(-2)\n",
    "data[\"car_prices_in_rupee\"] = np.array(split_str, dtype = \"float\")"
   ]
  },
  {
   "cell_type": "code",
   "execution_count": 5,
   "id": "23d3cf9b-9fb7-4528-b381-b9673cdb6811",
   "metadata": {},
   "outputs": [],
   "source": [
    "# Convert to usd currency \n",
    "data[\"car_prices_in_rupee\"] = np.array(data[\"car_prices_in_rupee\"]*1230.24)\n",
    "data.rename(columns ={\"car_prices_in_rupee\":'price_usd'},inplace=True)"
   ]
  },
  {
   "cell_type": "code",
   "execution_count": 6,
   "id": "2691aeca-0e63-40d8-9f1c-e97e6f378a8f",
   "metadata": {},
   "outputs": [],
   "source": [
    "# Processing of convert with dependent variable to numeric\n",
    "split_str = data[\"engine\"].str.split().str.get(0)\n",
    "data[\"engine\"] = np.array(split_str, dtype = \"float64\")"
   ]
  },
  {
   "cell_type": "code",
   "execution_count": 7,
   "id": "c43d58e7-3841-4f61-8c99-3f4e187f5686",
   "metadata": {},
   "outputs": [
    {
     "data": {
      "text/plain": [
       "Index(['price_usd', 'fuel_type', 'transmission', 'manufacture', 'engine',\n",
       "       'Seats'],\n",
       "      dtype='object')"
      ]
     },
     "execution_count": 7,
     "metadata": {},
     "output_type": "execute_result"
    }
   ],
   "source": [
    "data.columns"
   ]
  },
  {
   "cell_type": "code",
   "execution_count": 8,
   "id": "7ab064b8-5d1e-495c-93d5-7234a7a1c4a5",
   "metadata": {},
   "outputs": [
    {
     "data": {
      "text/html": [
       "<div>\n",
       "<style scoped>\n",
       "    .dataframe tbody tr th:only-of-type {\n",
       "        vertical-align: middle;\n",
       "    }\n",
       "\n",
       "    .dataframe tbody tr th {\n",
       "        vertical-align: top;\n",
       "    }\n",
       "\n",
       "    .dataframe thead th {\n",
       "        text-align: right;\n",
       "    }\n",
       "</style>\n",
       "<table border=\"1\" class=\"dataframe\">\n",
       "  <thead>\n",
       "    <tr style=\"text-align: right;\">\n",
       "      <th></th>\n",
       "      <th>engine</th>\n",
       "      <th>fuel_type_Cng</th>\n",
       "      <th>fuel_type_Diesel</th>\n",
       "      <th>fuel_type_Electric</th>\n",
       "      <th>fuel_type_Lpg</th>\n",
       "      <th>fuel_type_Petrol</th>\n",
       "      <th>transmission_Automatic</th>\n",
       "      <th>transmission_Manual</th>\n",
       "    </tr>\n",
       "  </thead>\n",
       "  <tbody>\n",
       "    <tr>\n",
       "      <th>0</th>\n",
       "      <td>1956.0</td>\n",
       "      <td>0</td>\n",
       "      <td>1</td>\n",
       "      <td>0</td>\n",
       "      <td>0</td>\n",
       "      <td>0</td>\n",
       "      <td>0</td>\n",
       "      <td>1</td>\n",
       "    </tr>\n",
       "    <tr>\n",
       "      <th>1</th>\n",
       "      <td>1330.0</td>\n",
       "      <td>0</td>\n",
       "      <td>0</td>\n",
       "      <td>0</td>\n",
       "      <td>0</td>\n",
       "      <td>1</td>\n",
       "      <td>1</td>\n",
       "      <td>0</td>\n",
       "    </tr>\n",
       "    <tr>\n",
       "      <th>2</th>\n",
       "      <td>2494.0</td>\n",
       "      <td>0</td>\n",
       "      <td>0</td>\n",
       "      <td>0</td>\n",
       "      <td>0</td>\n",
       "      <td>1</td>\n",
       "      <td>1</td>\n",
       "      <td>0</td>\n",
       "    </tr>\n",
       "    <tr>\n",
       "      <th>3</th>\n",
       "      <td>1199.0</td>\n",
       "      <td>0</td>\n",
       "      <td>0</td>\n",
       "      <td>0</td>\n",
       "      <td>0</td>\n",
       "      <td>1</td>\n",
       "      <td>1</td>\n",
       "      <td>0</td>\n",
       "    </tr>\n",
       "    <tr>\n",
       "      <th>4</th>\n",
       "      <td>1199.0</td>\n",
       "      <td>0</td>\n",
       "      <td>0</td>\n",
       "      <td>0</td>\n",
       "      <td>0</td>\n",
       "      <td>1</td>\n",
       "      <td>0</td>\n",
       "      <td>1</td>\n",
       "    </tr>\n",
       "  </tbody>\n",
       "</table>\n",
       "</div>"
      ],
      "text/plain": [
       "   engine  fuel_type_Cng  fuel_type_Diesel  fuel_type_Electric  fuel_type_Lpg  \\\n",
       "0  1956.0              0                 1                   0              0   \n",
       "1  1330.0              0                 0                   0              0   \n",
       "2  2494.0              0                 0                   0              0   \n",
       "3  1199.0              0                 0                   0              0   \n",
       "4  1199.0              0                 0                   0              0   \n",
       "\n",
       "   fuel_type_Petrol  transmission_Automatic  transmission_Manual  \n",
       "0                 0                       0                    1  \n",
       "1                 1                       1                    0  \n",
       "2                 1                       1                    0  \n",
       "3                 1                       1                    0  \n",
       "4                 1                       0                    1  "
      ]
     },
     "execution_count": 8,
     "metadata": {},
     "output_type": "execute_result"
    }
   ],
   "source": [
    "dummy_variable = pd.get_dummies(data[['fuel_type','transmission','engine']])\n",
    "dummy_variable.head()"
   ]
  },
  {
   "cell_type": "code",
   "execution_count": 9,
   "id": "76327452-4b10-467a-b236-2fc7fe64c5ee",
   "metadata": {},
   "outputs": [],
   "source": [
    "y = data[\"price_usd\"]"
   ]
  },
  {
   "cell_type": "code",
   "execution_count": 10,
   "id": "72713d80-3a57-477b-a4c8-ae141fa40366",
   "metadata": {},
   "outputs": [
    {
     "data": {
      "text/html": [
       "<div>\n",
       "<style scoped>\n",
       "    .dataframe tbody tr th:only-of-type {\n",
       "        vertical-align: middle;\n",
       "    }\n",
       "\n",
       "    .dataframe tbody tr th {\n",
       "        vertical-align: top;\n",
       "    }\n",
       "\n",
       "    .dataframe thead th {\n",
       "        text-align: right;\n",
       "    }\n",
       "</style>\n",
       "<table border=\"1\" class=\"dataframe\">\n",
       "  <thead>\n",
       "    <tr style=\"text-align: right;\">\n",
       "      <th></th>\n",
       "      <th>manufacture</th>\n",
       "      <th>engine</th>\n",
       "    </tr>\n",
       "  </thead>\n",
       "  <tbody>\n",
       "    <tr>\n",
       "      <th>0</th>\n",
       "      <td>2017.0</td>\n",
       "      <td>1956.0</td>\n",
       "    </tr>\n",
       "    <tr>\n",
       "      <th>1</th>\n",
       "      <td>2021.0</td>\n",
       "      <td>1330.0</td>\n",
       "    </tr>\n",
       "    <tr>\n",
       "      <th>2</th>\n",
       "      <td>2016.0</td>\n",
       "      <td>2494.0</td>\n",
       "    </tr>\n",
       "    <tr>\n",
       "      <th>3</th>\n",
       "      <td>2018.0</td>\n",
       "      <td>1199.0</td>\n",
       "    </tr>\n",
       "    <tr>\n",
       "      <th>4</th>\n",
       "      <td>2016.0</td>\n",
       "      <td>1199.0</td>\n",
       "    </tr>\n",
       "  </tbody>\n",
       "</table>\n",
       "</div>"
      ],
      "text/plain": [
       "   manufacture  engine\n",
       "0       2017.0  1956.0\n",
       "1       2021.0  1330.0\n",
       "2       2016.0  2494.0\n",
       "3       2018.0  1199.0\n",
       "4       2016.0  1199.0"
      ]
     },
     "execution_count": 10,
     "metadata": {},
     "output_type": "execute_result"
    }
   ],
   "source": [
    "x = data.drop([\"price_usd\",'fuel_type','transmission','Seats'], axis = 1).astype(\"float64\")\n",
    "x.head()"
   ]
  },
  {
   "cell_type": "code",
   "execution_count": 11,
   "id": "5cd77dca-3d69-428b-89ac-7cbba08c138d",
   "metadata": {},
   "outputs": [
    {
     "data": {
      "text/html": [
       "<div>\n",
       "<style scoped>\n",
       "    .dataframe tbody tr th:only-of-type {\n",
       "        vertical-align: middle;\n",
       "    }\n",
       "\n",
       "    .dataframe tbody tr th {\n",
       "        vertical-align: top;\n",
       "    }\n",
       "\n",
       "    .dataframe thead th {\n",
       "        text-align: right;\n",
       "    }\n",
       "</style>\n",
       "<table border=\"1\" class=\"dataframe\">\n",
       "  <thead>\n",
       "    <tr style=\"text-align: right;\">\n",
       "      <th></th>\n",
       "      <th>price_usd</th>\n",
       "      <th>manufacture</th>\n",
       "      <th>engine</th>\n",
       "      <th>fuel_type_Cng</th>\n",
       "      <th>fuel_type_Diesel</th>\n",
       "      <th>fuel_type_Electric</th>\n",
       "      <th>fuel_type_Lpg</th>\n",
       "      <th>fuel_type_Petrol</th>\n",
       "      <th>transmission_Automatic</th>\n",
       "      <th>transmission_Manual</th>\n",
       "    </tr>\n",
       "  </thead>\n",
       "  <tbody>\n",
       "    <tr>\n",
       "      <th>0</th>\n",
       "      <td>12339.3072</td>\n",
       "      <td>2017.0</td>\n",
       "      <td>1956.0</td>\n",
       "      <td>0</td>\n",
       "      <td>1</td>\n",
       "      <td>0</td>\n",
       "      <td>0</td>\n",
       "      <td>0</td>\n",
       "      <td>0</td>\n",
       "      <td>1</td>\n",
       "    </tr>\n",
       "    <tr>\n",
       "      <th>1</th>\n",
       "      <td>15783.9792</td>\n",
       "      <td>2021.0</td>\n",
       "      <td>1330.0</td>\n",
       "      <td>0</td>\n",
       "      <td>0</td>\n",
       "      <td>0</td>\n",
       "      <td>0</td>\n",
       "      <td>1</td>\n",
       "      <td>1</td>\n",
       "      <td>0</td>\n",
       "    </tr>\n",
       "    <tr>\n",
       "      <th>2</th>\n",
       "      <td>20175.9360</td>\n",
       "      <td>2016.0</td>\n",
       "      <td>2494.0</td>\n",
       "      <td>0</td>\n",
       "      <td>0</td>\n",
       "      <td>0</td>\n",
       "      <td>0</td>\n",
       "      <td>1</td>\n",
       "      <td>1</td>\n",
       "      <td>0</td>\n",
       "    </tr>\n",
       "    <tr>\n",
       "      <th>3</th>\n",
       "      <td>9558.9648</td>\n",
       "      <td>2018.0</td>\n",
       "      <td>1199.0</td>\n",
       "      <td>0</td>\n",
       "      <td>0</td>\n",
       "      <td>0</td>\n",
       "      <td>0</td>\n",
       "      <td>1</td>\n",
       "      <td>1</td>\n",
       "      <td>0</td>\n",
       "    </tr>\n",
       "    <tr>\n",
       "      <th>4</th>\n",
       "      <td>6335.7360</td>\n",
       "      <td>2016.0</td>\n",
       "      <td>1199.0</td>\n",
       "      <td>0</td>\n",
       "      <td>0</td>\n",
       "      <td>0</td>\n",
       "      <td>0</td>\n",
       "      <td>1</td>\n",
       "      <td>0</td>\n",
       "      <td>1</td>\n",
       "    </tr>\n",
       "  </tbody>\n",
       "</table>\n",
       "</div>"
      ],
      "text/plain": [
       "    price_usd  manufacture  engine  fuel_type_Cng  fuel_type_Diesel  \\\n",
       "0  12339.3072       2017.0  1956.0              0                 1   \n",
       "1  15783.9792       2021.0  1330.0              0                 0   \n",
       "2  20175.9360       2016.0  2494.0              0                 0   \n",
       "3   9558.9648       2018.0  1199.0              0                 0   \n",
       "4   6335.7360       2016.0  1199.0              0                 0   \n",
       "\n",
       "   fuel_type_Electric  fuel_type_Lpg  fuel_type_Petrol  \\\n",
       "0                   0              0                 0   \n",
       "1                   0              0                 1   \n",
       "2                   0              0                 1   \n",
       "3                   0              0                 1   \n",
       "4                   0              0                 1   \n",
       "\n",
       "   transmission_Automatic  transmission_Manual  \n",
       "0                       0                    1  \n",
       "1                       1                    0  \n",
       "2                       1                    0  \n",
       "3                       1                    0  \n",
       "4                       0                    1  "
      ]
     },
     "execution_count": 11,
     "metadata": {},
     "output_type": "execute_result"
    }
   ],
   "source": [
    "data = pd.concat([y, x, dummy_variable[['fuel_type_Cng', 'fuel_type_Diesel', 'fuel_type_Electric',\n",
    "                                     'fuel_type_Lpg', 'fuel_type_Petrol', 'transmission_Automatic',\n",
    "                                     'transmission_Manual', ]]],axis = 1)\n",
    "data.head()"
   ]
  },
  {
   "cell_type": "code",
   "execution_count": 12,
   "id": "d1786974-563c-4466-bac1-93549c92a0ca",
   "metadata": {},
   "outputs": [
    {
     "data": {
      "text/plain": [
       "Index(['engine', 'fuel_type_Cng', 'fuel_type_Diesel', 'fuel_type_Electric',\n",
       "       'fuel_type_Lpg', 'fuel_type_Petrol', 'transmission_Automatic',\n",
       "       'transmission_Manual'],\n",
       "      dtype='object')"
      ]
     },
     "execution_count": 12,
     "metadata": {},
     "output_type": "execute_result"
    }
   ],
   "source": [
    "dummy_variable.columns"
   ]
  },
  {
   "cell_type": "markdown",
   "id": "ad78bba2-2d02-4cdf-98ce-4a7b9e7c7da0",
   "metadata": {},
   "source": [
    "### _Handling with Dataset_"
   ]
  },
  {
   "cell_type": "code",
   "execution_count": 13,
   "id": "b88cd997-5bf1-405d-b4b4-8a32a952d4b0",
   "metadata": {},
   "outputs": [
    {
     "data": {
      "text/plain": [
       "<AxesSubplot:>"
      ]
     },
     "execution_count": 13,
     "metadata": {},
     "output_type": "execute_result"
    },
    {
     "data": {
      "image/png": "[encoded data removed]",
      "text/plain": [
       "<Figure size 2500x1000 with 2 Axes>"
      ]
     },
     "metadata": {},
     "output_type": "display_data"
    }
   ],
   "source": [
    "msno.matrix(data)"
   ]
  },
  {
   "cell_type": "code",
   "execution_count": 14,
   "id": "0257bfc7-bc5f-4cfe-829b-015c7f901bec",
   "metadata": {},
   "outputs": [],
   "source": [
    "# To remove columns have missed values\n",
    "data = data.dropna(axis = 'rows', how = 'any')"
   ]
  },
  {
   "cell_type": "code",
   "execution_count": 15,
   "id": "862ceba2-bbb0-4290-a11a-a089733a1377",
   "metadata": {},
   "outputs": [],
   "source": [
    "# Removing to outliers values with quartile method\n",
    "Q1 = data[\"price_usd\"].quantile(0.25)\n",
    "Q3 = data[\"price_usd\"].quantile(0.75)\n",
    "IQR = Q3 - Q1\n",
    "\n",
    "lower_limit  = Q1 - 1.5*IQR\n",
    "upper_limit  = Q3 + 1.5*IQR\n",
    "\n",
    "data3 = data[~((data[\"price_usd\"] < lower_limit ) | (data[\"price_usd\"] > upper_limit))]"
   ]
  },
  {
   "cell_type": "code",
   "execution_count": 16,
   "id": "f9145ea8-4b2a-4524-b91a-c118193e6efa",
   "metadata": {},
   "outputs": [
    {
     "data": {
      "image/png": "[encoded data removed]",
      "text/plain": [
       "<Figure size 640x480 with 1 Axes>"
      ]
     },
     "metadata": {},
     "output_type": "display_data"
    }
   ],
   "source": [
    "plt.hist(data3[\"price_usd\"],);"
   ]
  },
  {
   "cell_type": "code",
   "execution_count": 17,
   "id": "b1736bb1-90ea-437b-8d1d-4adff3b3b1d0",
   "metadata": {},
   "outputs": [
    {
     "name": "stdout",
     "output_type": "stream",
     "text": [
      "<class 'pandas.core.frame.DataFrame'>\n",
      "Int64Index: 5389 entries, 0 to 5511\n",
      "Data columns (total 10 columns):\n",
      " #   Column                  Non-Null Count  Dtype  \n",
      "---  ------                  --------------  -----  \n",
      " 0   price_usd               5389 non-null   float64\n",
      " 1   manufacture             5389 non-null   float64\n",
      " 2   engine                  5389 non-null   float64\n",
      " 3   fuel_type_Cng           5389 non-null   uint8  \n",
      " 4   fuel_type_Diesel        5389 non-null   uint8  \n",
      " 5   fuel_type_Electric      5389 non-null   uint8  \n",
      " 6   fuel_type_Lpg           5389 non-null   uint8  \n",
      " 7   fuel_type_Petrol        5389 non-null   uint8  \n",
      " 8   transmission_Automatic  5389 non-null   uint8  \n",
      " 9   transmission_Manual     5389 non-null   uint8  \n",
      "dtypes: float64(3), uint8(7)\n",
      "memory usage: 205.2 KB\n"
     ]
    }
   ],
   "source": [
    "data.info()"
   ]
  },
  {
   "cell_type": "code",
   "execution_count": 18,
   "id": "6d4c0b0b-24b4-441c-8d1d-3de4d820aee5",
   "metadata": {},
   "outputs": [
    {
     "data": {
      "text/plain": [
       "0       12339.3072\n",
       "1       15783.9792\n",
       "2       20175.9360\n",
       "3        9558.9648\n",
       "4        6335.7360\n",
       "           ...    \n",
       "5507    35553.9360\n",
       "5508    79842.5760\n",
       "5509    16915.8000\n",
       "5510    36784.1760\n",
       "5511    39244.6560\n",
       "Name: price_usd, Length: 5512, dtype: float64"
      ]
     },
     "execution_count": 18,
     "metadata": {},
     "output_type": "execute_result"
    }
   ],
   "source": [
    "y"
   ]
  },
  {
   "cell_type": "markdown",
   "id": "333bc381-2d39-41cd-9f52-38edd1681cd3",
   "metadata": {},
   "source": [
    "### _Multilinear Model_"
   ]
  },
  {
   "cell_type": "code",
   "execution_count": 19,
   "id": "a6266c53-7f37-4b7f-a676-761614406b9b",
   "metadata": {},
   "outputs": [],
   "source": [
    "from sklearn.linear_model import LinearRegression\n",
    "import statsmodels.api as sm\n",
    "from sklearn.model_selection import train_test_split, cross_val_score, cross_val_predict"
   ]
  },
  {
   "cell_type": "code",
   "execution_count": 20,
   "id": "700e393b-cc9b-4436-b3ad-37f27f2bf715",
   "metadata": {},
   "outputs": [],
   "source": [
    "x = data.drop(\"price_usd\", axis = 1)\n",
    "y = data[\"price_usd\"]"
   ]
  },
  {
   "cell_type": "code",
   "execution_count": 21,
   "id": "45138fec-87aa-4e18-a8b1-ea5f45fd75b1",
   "metadata": {},
   "outputs": [],
   "source": [
    "x_train, x_test, y_train, y_test = train_test_split(x, y, test_size = 0.25, random_state = 112)"
   ]
  },
  {
   "cell_type": "code",
   "execution_count": 22,
   "id": "eac99549-5c0f-460f-a138-df3c7b47c5d2",
   "metadata": {},
   "outputs": [],
   "source": [
    "lm = LinearRegression()\n",
    "model = lm.fit(x_train, y_train)"
   ]
  },
  {
   "cell_type": "code",
   "execution_count": 23,
   "id": "05e89a16-c8cf-4427-a6fe-b739efd2b06b",
   "metadata": {},
   "outputs": [
    {
     "data": {
      "text/plain": [
       "-2517951.496967527"
      ]
     },
     "execution_count": 23,
     "metadata": {},
     "output_type": "execute_result"
    }
   ],
   "source": [
    "model.intercept_"
   ]
  },
  {
   "cell_type": "code",
   "execution_count": 24,
   "id": "78a065fb-dfd9-4a40-8492-2289cbe5e64d",
   "metadata": {},
   "outputs": [
    {
     "data": {
      "text/plain": [
       "array([ 1.25471664e+03,  1.73708227e+00,  3.48249715e+02,  6.25233191e+03,\n",
       "       -1.23032957e+04,  4.80298800e+03,  8.99726047e+02,  9.63836755e+03,\n",
       "       -9.63836755e+03])"
      ]
     },
     "execution_count": 24,
     "metadata": {},
     "output_type": "execute_result"
    }
   ],
   "source": [
    "model.coef_"
   ]
  },
  {
   "cell_type": "code",
   "execution_count": 25,
   "id": "0cb37711-1bef-4bfb-972d-8de570f2e34e",
   "metadata": {},
   "outputs": [
    {
     "data": {
      "text/plain": [
       "array([ 6603.70565543, 18810.08004928, 10960.74386188, ...,\n",
       "         884.25171041,  8999.25425971, 10250.496733  ])"
      ]
     },
     "execution_count": 25,
     "metadata": {},
     "output_type": "execute_result"
    }
   ],
   "source": [
    "model.predict(x_test)"
   ]
  },
  {
   "cell_type": "code",
   "execution_count": 26,
   "id": "eca971fe-fb67-4166-b82b-0c4643b62868",
   "metadata": {},
   "outputs": [
    {
     "data": {
      "text/plain": [
       "0.4590882179626534"
      ]
     },
     "execution_count": 26,
     "metadata": {},
     "output_type": "execute_result"
    }
   ],
   "source": [
    "model.score(x_train, y_train)"
   ]
  },
  {
   "cell_type": "code",
   "execution_count": 27,
   "id": "b4d02bcb-4314-40b4-808f-a89242da7ca6",
   "metadata": {},
   "outputs": [
    {
     "data": {
      "text/plain": [
       "0.4568278421720612"
      ]
     },
     "execution_count": 27,
     "metadata": {},
     "output_type": "execute_result"
    }
   ],
   "source": [
    "# 10 folded, cross validation score for multilinear regression\n",
    "from sklearn.model_selection import cross_val_score\n",
    "cross_val_score(model, x_train, y_train, cv = 10, scoring = \"r2\").mean()"
   ]
  },
  {
   "cell_type": "code",
   "execution_count": 28,
   "id": "f311bb89-14e9-44b9-a75d-2783d117b5c7",
   "metadata": {},
   "outputs": [
    {
     "name": "stdout",
     "output_type": "stream",
     "text": [
      "12582.964072531197\n"
     ]
    }
   ],
   "source": [
    "rmse = np.sqrt(mean_squared_error(y_train, model.predict(x_train)))\n",
    "print(rmse)"
   ]
  },
  {
   "cell_type": "code",
   "execution_count": 29,
   "id": "763b7fc0-0f80-4cbf-b94a-361a81c78f0e",
   "metadata": {},
   "outputs": [
    {
     "name": "stdout",
     "output_type": "stream",
     "text": [
      "11961.708855173863\n"
     ]
    }
   ],
   "source": [
    "rmse = np.sqrt(mean_squared_error(y_test, model.predict(x_test)))\n",
    "print(rmse)"
   ]
  },
  {
   "cell_type": "markdown",
   "id": "705c0427-f19c-4ad0-a66b-2e77c20aa156",
   "metadata": {},
   "source": [
    "### _eXtreme Gradient Boosting - XGBoost_"
   ]
  },
  {
   "cell_type": "code",
   "execution_count": 31,
   "id": "8efe8430-2661-4c47-964e-ca475178d0da",
   "metadata": {},
   "outputs": [
    {
     "name": "stdout",
     "output_type": "stream",
     "text": [
      "Requirement already satisfied: xgboost in c:\\users\\samsung\\anaconda3\\lib\\site-packages (1.7.2)\n",
      "Requirement already satisfied: numpy in c:\\users\\samsung\\anaconda3\\lib\\site-packages (from xgboost) (1.21.5)\n",
      "Requirement already satisfied: scipy in c:\\users\\samsung\\anaconda3\\lib\\site-packages (from xgboost) (1.9.1)\n"
     ]
    }
   ],
   "source": [
    "!pip install xgboost\n",
    "import xgboost as xgb"
   ]
  },
  {
   "cell_type": "code",
   "execution_count": 32,
   "id": "4fc7922d-d968-4318-86a8-5361d4f20b9c",
   "metadata": {},
   "outputs": [],
   "source": [
    "x_train, x_test, y_train, y_test = train_test_split(x, y, test_size = 0.2, random_state = 42)"
   ]
  },
  {
   "cell_type": "code",
   "execution_count": 33,
   "id": "6593e08b-20d8-4c69-a373-8e2e1f543734",
   "metadata": {
    "tags": []
   },
   "outputs": [],
   "source": [
    "DM_train = xgb.DMatrix(data = x_train, label = y_train) # label - dependent variable\n",
    "DM_test = xgb.DMatrix(data = x_test, label = y_test)"
   ]
  },
  {
   "cell_type": "code",
   "execution_count": 34,
   "id": "c0242e37-b886-42d9-a070-2798fee9d3dc",
   "metadata": {},
   "outputs": [
    {
     "data": {
      "text/plain": [
       "Index(['manufacture', 'engine', 'fuel_type_Cng', 'fuel_type_Diesel',\n",
       "       'fuel_type_Electric', 'fuel_type_Lpg', 'fuel_type_Petrol',\n",
       "       'transmission_Automatic', 'transmission_Manual'],\n",
       "      dtype='object')"
      ]
     },
     "execution_count": 34,
     "metadata": {},
     "output_type": "execute_result"
    }
   ],
   "source": [
    "x_train.columns"
   ]
  },
  {
   "cell_type": "code",
   "execution_count": 35,
   "id": "a99c7705-7484-4239-be3f-3c7342e26b0e",
   "metadata": {},
   "outputs": [],
   "source": [
    "from xgboost import XGBRegressor"
   ]
  },
  {
   "cell_type": "code",
   "execution_count": 36,
   "id": "a0add4d9-2e71-4c49-9652-319ab74687b6",
   "metadata": {},
   "outputs": [],
   "source": [
    "xgb_model = XGBRegressor().fit(x_train, y_train)"
   ]
  },
  {
   "cell_type": "code",
   "execution_count": 37,
   "id": "af71ab1b-727f-43d4-8248-7cafb6aec476",
   "metadata": {},
   "outputs": [
    {
     "data": {
      "text/plain": [
       "12046.444381326499"
      ]
     },
     "execution_count": 37,
     "metadata": {},
     "output_type": "execute_result"
    }
   ],
   "source": [
    "y_predict = xgb_model.predict(x_test)\n",
    "np.sqrt(mean_squared_error(y_test, y_predict))"
   ]
  },
  {
   "cell_type": "code",
   "execution_count": 38,
   "id": "d7b7339b-f750-48dd-85ca-3dd85309eecc",
   "metadata": {},
   "outputs": [
    {
     "data": {
      "text/plain": [
       "XGBRegressor(base_score=0.5, booster='gbtree', callbacks=None,\n",
       "             colsample_bylevel=1, colsample_bynode=1, colsample_bytree=1,\n",
       "             early_stopping_rounds=None, enable_categorical=False,\n",
       "             eval_metric=None, feature_types=None, gamma=0, gpu_id=-1,\n",
       "             grow_policy='depthwise', importance_type=None,\n",
       "             interaction_constraints='', learning_rate=0.300000012, max_bin=256,\n",
       "             max_cat_threshold=64, max_cat_to_onehot=4, max_delta_step=0,\n",
       "             max_depth=6, max_leaves=0, min_child_weight=1, missing=nan,\n",
       "             monotone_constraints='()', n_estimators=100, n_jobs=0,\n",
       "             num_parallel_tree=1, predictor='auto', random_state=0, ...)"
      ]
     },
     "execution_count": 38,
     "metadata": {},
     "output_type": "execute_result"
    }
   ],
   "source": [
    "xgb_model"
   ]
  },
  {
   "cell_type": "code",
   "execution_count": 39,
   "id": "6acd1a57-8608-435e-b86c-9febfb80cec9",
   "metadata": {},
   "outputs": [],
   "source": [
    "xgb_params = {\"colsample_bytree\": [0.2, 0.4, 0.5, 0.6, 0.9],\n",
    "              \"n_estimators\": [50, 100, 200, 500],\n",
    "              \"max_depth\": [2, 3, 4, 5, 6, 8],\n",
    "              \"learning_rate\": [0.01, 0.02, 0.3, 0.5, 0.7]}"
   ]
  },
  {
   "cell_type": "code",
   "execution_count": 40,
   "id": "f2701e3a-54cd-40de-ae8c-ab2c0212b024",
   "metadata": {},
   "outputs": [],
   "source": [
    "from sklearn.model_selection import train_test_split, ShuffleSplit, GridSearchCV"
   ]
  },
  {
   "cell_type": "code",
   "execution_count": 41,
   "id": "2347377c-83a8-4c41-8b35-fba9dd93e189",
   "metadata": {},
   "outputs": [
    {
     "name": "stdout",
     "output_type": "stream",
     "text": [
      "Fitting 10 folds for each of 600 candidates, totalling 6000 fits\n"
     ]
    },
    {
     "data": {
      "text/plain": [
       "GridSearchCV(cv=10,\n",
       "             estimator=XGBRegressor(base_score=None, booster=None,\n",
       "                                    callbacks=None, colsample_bylevel=None,\n",
       "                                    colsample_bynode=None,\n",
       "                                    colsample_bytree=None,\n",
       "                                    early_stopping_rounds=None,\n",
       "                                    enable_categorical=False, eval_metric=None,\n",
       "                                    feature_types=None, gamma=None, gpu_id=None,\n",
       "                                    grow_policy=None, importance_type=None,\n",
       "                                    interaction_constraints=None,\n",
       "                                    learning_rate=None,...\n",
       "                                    max_depth=None, max_leaves=None,\n",
       "                                    min_child_weight=None, missing=nan,\n",
       "                                    monotone_constraints=None, n_estimators=100,\n",
       "                                    n_jobs=None, num_parallel_tree=None,\n",
       "                                    predictor=None, random_state=None, ...),\n",
       "             n_jobs=-1,\n",
       "             param_grid={'colsample_bytree': [0.2, 0.4, 0.5, 0.6, 0.9],\n",
       "                         'learning_rate': [0.01, 0.02, 0.3, 0.5, 0.7],\n",
       "                         'max_depth': [2, 3, 4, 5, 6, 8],\n",
       "                         'n_estimators': [50, 100, 200, 500]},\n",
       "             verbose=2)"
      ]
     },
     "execution_count": 41,
     "metadata": {},
     "output_type": "execute_result"
    }
   ],
   "source": [
    "xgb = XGBRegressor()\n",
    "xgb_model_cv = GridSearchCV(xgb, xgb_params, cv = 10, n_jobs = -1, verbose = 2)\n",
    "xgb_model_cv.fit(x_train, y_train)"
   ]
  },
  {
   "cell_type": "code",
   "execution_count": 49,
   "id": "434f5bac-8bea-4021-8856-d5b4c99f2475",
   "metadata": {},
   "outputs": [
    {
     "data": {
      "text/plain": [
       "{'colsample_bytree': 0.6,\n",
       " 'learning_rate': 0.02,\n",
       " 'max_depth': 5,\n",
       " 'n_estimators': 200}"
      ]
     },
     "execution_count": 49,
     "metadata": {},
     "output_type": "execute_result"
    }
   ],
   "source": [
    "xgb_model_cv.best_params_"
   ]
  },
  {
   "cell_type": "code",
   "execution_count": 50,
   "id": "850a9129-d2b5-48cd-b81b-64c973b26965",
   "metadata": {},
   "outputs": [],
   "source": [
    "xgb_tuned = XGBRegressor(colsample_bytree = 0.6, learning_rate = 0.02,\n",
    "                         max_depth = 5, n_estimators = 200)"
   ]
  },
  {
   "cell_type": "code",
   "execution_count": 51,
   "id": "a48e1455-7e7c-429a-9782-1ff8d8945c1b",
   "metadata": {},
   "outputs": [],
   "source": [
    "xgb_tuned = xgb_tuned.fit(x_train, y_train)"
   ]
  },
  {
   "cell_type": "code",
   "execution_count": 52,
   "id": "3f2a0804-3389-465a-afce-aec5cf35e5dd",
   "metadata": {},
   "outputs": [],
   "source": [
    "y_predict = xgb_tuned.predict(x_test)"
   ]
  },
  {
   "cell_type": "code",
   "execution_count": 53,
   "id": "68f4b20b-1c50-4433-b5ee-15a77e2d3e08",
   "metadata": {},
   "outputs": [
    {
     "data": {
      "text/plain": [
       "10871.154264768908"
      ]
     },
     "execution_count": 53,
     "metadata": {},
     "output_type": "execute_result"
    }
   ],
   "source": [
    "np.sqrt(mean_squared_error(y_test, y_predict))"
   ]
  },
  {
   "cell_type": "code",
   "execution_count": 54,
   "id": "e1f852d6-2ce4-44af-8587-128d1a9d78a0",
   "metadata": {},
   "outputs": [
    {
     "data": {
      "text/plain": [
       "0.5489668141895447"
      ]
     },
     "execution_count": 54,
     "metadata": {},
     "output_type": "execute_result"
    }
   ],
   "source": [
    "r2_score(y_test, y_predict)"
   ]
  },
  {
   "cell_type": "markdown",
   "id": "0aeab4c8-7efd-4653-8011-45e9a03d47b5",
   "metadata": {},
   "source": [
    "### _Light GBM_"
   ]
  },
  {
   "cell_type": "code",
   "execution_count": 55,
   "id": "711aac46-7bf9-4257-9eed-63377e52d3b7",
   "metadata": {},
   "outputs": [
    {
     "name": "stdout",
     "output_type": "stream",
     "text": [
      "Requirement already satisfied: lightgbm in c:\\users\\samsung\\anaconda3\\lib\\site-packages (3.3.3)\n",
      "Requirement already satisfied: numpy in c:\\users\\samsung\\anaconda3\\lib\\site-packages (from lightgbm) (1.21.5)\n",
      "Requirement already satisfied: scipy in c:\\users\\samsung\\anaconda3\\lib\\site-packages (from lightgbm) (1.9.1)\n",
      "Requirement already satisfied: wheel in c:\\users\\samsung\\anaconda3\\lib\\site-packages (from lightgbm) (0.37.1)\n",
      "Requirement already satisfied: scikit-learn!=0.22.0 in c:\\users\\samsung\\anaconda3\\lib\\site-packages (from lightgbm) (1.0.2)\n",
      "Requirement already satisfied: threadpoolctl>=2.0.0 in c:\\users\\samsung\\anaconda3\\lib\\site-packages (from scikit-learn!=0.22.0->lightgbm) (2.2.0)\n",
      "Requirement already satisfied: joblib>=0.11 in c:\\users\\samsung\\anaconda3\\lib\\site-packages (from scikit-learn!=0.22.0->lightgbm) (1.1.0)\n"
     ]
    }
   ],
   "source": [
    "!pip install lightgbm\n",
    "from lightgbm import LGBMRegressor"
   ]
  },
  {
   "cell_type": "code",
   "execution_count": 56,
   "id": "a57864c3-0ede-4e37-a2e1-7e5f078a2bc6",
   "metadata": {},
   "outputs": [],
   "source": [
    "lgbm = LGBMRegressor()\n",
    "lgbm_model = lgbm.fit(x_train, y_train)"
   ]
  },
  {
   "cell_type": "code",
   "execution_count": 57,
   "id": "623eb1dd-3b81-4187-b53b-faba3486ead8",
   "metadata": {},
   "outputs": [
    {
     "data": {
      "text/plain": [
       "10871.154264768908"
      ]
     },
     "execution_count": 57,
     "metadata": {},
     "output_type": "execute_result"
    }
   ],
   "source": [
    "np.sqrt(mean_squared_error(y_test, y_predict))"
   ]
  },
  {
   "cell_type": "code",
   "execution_count": 58,
   "id": "4b72d2d6-0a97-4d48-b70d-a819a8aa102d",
   "metadata": {},
   "outputs": [],
   "source": [
    "lgbm_params = {\"colsample_bytree\": [0.4, 0.5, 0.6, 0.9, 1],\n",
    "               \"n_estimators\": [20, 40, 100, 200, 500, 1000],\n",
    "               \"max_depth\": [1, 2, 3, 4, 5, 6, 7, 8,],\n",
    "               \"learning_rate\": [0.1, 0.01, 0.5, 1]}\n",
    "\n",
    "lgbm = LGBMRegressor()\n",
    "lgbm_model_cv = GridSearchCV(lgbm, lgbm_params, cv = 10, n_jobs = -1, verbose = 2)"
   ]
  },
  {
   "cell_type": "code",
   "execution_count": 59,
   "id": "39a5056b-7822-4a62-8c8a-59898a3b7cb1",
   "metadata": {},
   "outputs": [
    {
     "name": "stdout",
     "output_type": "stream",
     "text": [
      "Fitting 10 folds for each of 960 candidates, totalling 9600 fits\n"
     ]
    },
    {
     "data": {
      "text/plain": [
       "GridSearchCV(cv=10, estimator=LGBMRegressor(), n_jobs=-1,\n",
       "             param_grid={'colsample_bytree': [0.4, 0.5, 0.6, 0.9, 1],\n",
       "                         'learning_rate': [0.1, 0.01, 0.5, 1],\n",
       "                         'max_depth': [1, 2, 3, 4, 5, 6, 7, 8],\n",
       "                         'n_estimators': [20, 40, 100, 200, 500, 1000]},\n",
       "             verbose=2)"
      ]
     },
     "execution_count": 59,
     "metadata": {},
     "output_type": "execute_result"
    }
   ],
   "source": [
    "lgbm_model_cv.fit(x_train, y_train)"
   ]
  },
  {
   "cell_type": "code",
   "execution_count": 60,
   "id": "8918a140-9389-46f6-bd67-1fe02c7cd579",
   "metadata": {},
   "outputs": [
    {
     "data": {
      "text/plain": [
       "{'colsample_bytree': 0.5,\n",
       " 'learning_rate': 0.01,\n",
       " 'max_depth': 5,\n",
       " 'n_estimators': 500}"
      ]
     },
     "execution_count": 60,
     "metadata": {},
     "output_type": "execute_result"
    }
   ],
   "source": [
    "lgbm_model_cv.best_params_"
   ]
  },
  {
   "cell_type": "code",
   "execution_count": 61,
   "id": "a75a90ad-9f79-4954-8502-5cff7bfc4576",
   "metadata": {},
   "outputs": [],
   "source": [
    "lgbm_tuned = LGBMRegressor(colsample_bytree = 0.5, learning_rate = 0.1,\n",
    "                           max_depth = 5, n_estimators = 500)"
   ]
  },
  {
   "cell_type": "code",
   "execution_count": 62,
   "id": "5bce559f-c4c7-4e0c-9a40-3ae5735b73a3",
   "metadata": {},
   "outputs": [],
   "source": [
    "lgbm_tuned = lgbm_tuned.fit(x_train, y_train)"
   ]
  },
  {
   "cell_type": "code",
   "execution_count": 63,
   "id": "9a89c111-4442-4edb-836c-381d2698d5d2",
   "metadata": {},
   "outputs": [],
   "source": [
    "y_predict = lgbm_tuned.predict(x_test)"
   ]
  },
  {
   "cell_type": "code",
   "execution_count": 64,
   "id": "fc23d198-b331-4fa6-9efc-86be5e86b6be",
   "metadata": {},
   "outputs": [
    {
     "data": {
      "text/plain": [
       "11013.407087999567"
      ]
     },
     "execution_count": 64,
     "metadata": {},
     "output_type": "execute_result"
    }
   ],
   "source": [
    "np.sqrt(mean_squared_error(y_test, y_predict))"
   ]
  },
  {
   "cell_type": "code",
   "execution_count": 65,
   "id": "8701b66b-7cb5-4f83-8ba4-a04d5c6a92d4",
   "metadata": {},
   "outputs": [
    {
     "data": {
      "text/plain": [
       "0.5370857341732886"
      ]
     },
     "execution_count": 65,
     "metadata": {},
     "output_type": "execute_result"
    }
   ],
   "source": [
    "r2_score(y_test, y_predict)"
   ]
  }
 ],
 "metadata": {
  "kernelspec": {
   "display_name": "Python 3 (ipykernel)",
   "language": "python",
   "name": "python3"
  },
  "language_info": {
   "codemirror_mode": {
    "name": "ipython",
    "version": 3
   },
   "file_extension": ".py",
   "mimetype": "text/x-python",
   "name": "python",
   "nbconvert_exporter": "python",
   "pygments_lexer": "ipython3",
   "version": "3.9.13"
  }
 },
 "nbformat": 4,
 "nbformat_minor": 5
}
